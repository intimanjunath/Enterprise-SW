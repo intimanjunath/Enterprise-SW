{
  "nbformat": 4,
  "nbformat_minor": 0,
  "metadata": {
    "colab": {
      "provenance": [],
      "authorship_tag": "ABX9TyNI7kiiBTPKCZENhBTFDB14",
      "include_colab_link": true
    },
    "kernelspec": {
      "name": "python3",
      "display_name": "Python 3"
    },
    "language_info": {
      "name": "python"
    }
  },
  "cells": [
    {
      "cell_type": "markdown",
      "metadata": {
        "id": "view-in-github",
        "colab_type": "text"
      },
      "source": [
        "<a href=\"https://colab.research.google.com/github/intimanjunath/Enterprise-SW/blob/main/Sentiment_Analysis.ipynb\" target=\"_parent\"><img src=\"https://colab.research.google.com/assets/colab-badge.svg\" alt=\"Open In Colab\"/></a>"
      ]
    },
    {
      "cell_type": "code",
      "execution_count": 1,
      "metadata": {
        "id": "5pGqQmxrg-YB"
      },
      "outputs": [],
      "source": [
        "import pandas as pd\n",
        "import numpy as np\n",
        "import matplotlib.pyplot as plt"
      ]
    },
    {
      "cell_type": "code",
      "source": [
        "!pip install textblob"
      ],
      "metadata": {
        "colab": {
          "base_uri": "https://localhost:8080/"
        },
        "id": "zII67LV2hK6G",
        "outputId": "15fd7fc1-2766-4a66-c219-ba5ba41829ff"
      },
      "execution_count": 2,
      "outputs": [
        {
          "output_type": "stream",
          "name": "stdout",
          "text": [
            "Requirement already satisfied: textblob in /usr/local/lib/python3.10/dist-packages (0.17.1)\n",
            "Requirement already satisfied: nltk>=3.1 in /usr/local/lib/python3.10/dist-packages (from textblob) (3.8.1)\n",
            "Requirement already satisfied: click in /usr/local/lib/python3.10/dist-packages (from nltk>=3.1->textblob) (8.1.7)\n",
            "Requirement already satisfied: joblib in /usr/local/lib/python3.10/dist-packages (from nltk>=3.1->textblob) (1.4.2)\n",
            "Requirement already satisfied: regex>=2021.8.3 in /usr/local/lib/python3.10/dist-packages (from nltk>=3.1->textblob) (2024.5.15)\n",
            "Requirement already satisfied: tqdm in /usr/local/lib/python3.10/dist-packages (from nltk>=3.1->textblob) (4.66.5)\n"
          ]
        }
      ]
    },
    {
      "cell_type": "code",
      "source": [
        "from textblob import TextBlob"
      ],
      "metadata": {
        "id": "Y8x_xeoNhNGJ"
      },
      "execution_count": 3,
      "outputs": []
    },
    {
      "cell_type": "code",
      "source": [
        "import pandas as pd\n",
        "from textblob import TextBlob\n",
        "\n",
        "# Loading train file - Sentiment Analysis Dataset\n",
        "df = pd.read_csv('/content/train.csv', encoding='ISO-8859-1')\n",
        "\n",
        "#Function to determine sentiment using thresholds\n",
        "def analyze_sentiment(text):\n",
        "    # Create a TextBlob object and get the polarity\n",
        "    blob = TextBlob(text)\n",
        "    polarity = blob.sentiment.polarity\n",
        "\n",
        "    # Thresholds for sentiment classification\n",
        "    if polarity > 0.1:\n",
        "        return \"Positive\"\n",
        "    elif polarity < -0.1:\n",
        "        return \"Negative\"\n",
        "    else:\n",
        "        return \"Neutral\"\n",
        "\n",
        "# User input and analyze sentiment\n",
        "def analyze_user_input():\n",
        "    while True:\n",
        "        user_input = input(\"Enter text to analyze sentiment (or type 'exit' to quit): \")\n",
        "        if user_input.lower() == 'exit':\n",
        "            break\n",
        "        sentiment = analyze_sentiment(user_input)\n",
        "        print(f\"Sentiment: {sentiment}\")\n",
        "\n",
        "if __name__ == \"__main__\":\n",
        "    analyze_user_input()"
      ],
      "metadata": {
        "colab": {
          "base_uri": "https://localhost:8080/"
        },
        "id": "ogSHKj1AhUfZ",
        "outputId": "41e02cb3-1c61-4f4f-d60d-ef45ed3300c9"
      },
      "execution_count": 4,
      "outputs": [
        {
          "name": "stdout",
          "output_type": "stream",
          "text": [
            "Enter text to analyze sentiment (or type 'exit' to quit): i saw a dog\n",
            "Sentiment: Neutral\n",
            "Enter text to analyze sentiment (or type 'exit' to quit): im in bad mood\n",
            "Sentiment: Negative\n",
            "Enter text to analyze sentiment (or type 'exit' to quit): Im happy\n",
            "Sentiment: Positive\n",
            "Enter text to analyze sentiment (or type 'exit' to quit): quit\n",
            "Sentiment: Neutral\n",
            "Enter text to analyze sentiment (or type 'exit' to quit): exit\n"
          ]
        }
      ]
    }
  ]
}